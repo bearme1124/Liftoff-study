{
 "cells": [
  {
   "cell_type": "markdown",
   "metadata": {},
   "source": [
    "# 1. Lift off Machine"
   ]
  },
  {
   "cell_type": "markdown",
   "metadata": {},
   "source": [
    "[![Liftoff_Movie](http://img.youtube.com/vi/PAEfNmKMiHg/0.jpg)](https://youtu.be/PAEfNmKMiHg?t=0s)"
   ]
  },
  {
   "cell_type": "markdown",
   "metadata": {},
   "source": [
    "## 1.1. Level 1 ~ 8\n",
    "\n",
    "|Level_1|Level_2|\n",
    "|:-:|:-:|\n",
    "|![1](data_Liftoff_rotary/level1.png)|![2](data_Liftoff_rotary/level2_1.png)|\n",
    "\n",
    "|Level_3|Level_4|\n",
    "|:-:|:-:|\n",
    "|![3](data_Liftoff_rotary/level3.png)|![4](data_Liftoff_rotary/level4.png)|\n",
    "\n",
    "|Level_5|Level_6|\n",
    "|:-:|:-:|\n",
    "|![5](data_Liftoff_rotary/level5.png)|![6](data_Liftoff_rotary/level6.png)|\n",
    "\n",
    "|Level_7|Level_8|\n",
    "|:-:|:-:|\n",
    "|![7](data_Liftoff_rotary/level7.png)|![8](data_Liftoff_rotary/level8.png)|"
   ]
  },
  {
   "cell_type": "markdown",
   "metadata": {},
   "source": [
    "## 1.2. Level 8 vs Level 2_2\n",
    "\n",
    "|Level_8|Level_2_2|\n",
    "|:-:|:-:|\n",
    "|![8](data_Liftoff_rotary/level8.png)|![2_2](data_Liftoff_rotary/level2_2.png)|"
   ]
  }
 ],
 "metadata": {
  "interpreter": {
   "hash": "04ba4e1c4ab1d54d5c4bad9ef6d4dfeb90915a555b5e8d04cfbea5c56f1d169c"
  },
  "kernelspec": {
   "display_name": "Python 3.9.7 ('base')",
   "language": "python",
   "name": "python3"
  },
  "language_info": {
   "name": "python",
   "version": "3.9.7"
  },
  "orig_nbformat": 4
 },
 "nbformat": 4,
 "nbformat_minor": 2
}
