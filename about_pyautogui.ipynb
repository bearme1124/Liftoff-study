{
 "cells": [
  {
   "cell_type": "code",
   "execution_count": 1,
   "metadata": {},
   "outputs": [
    {
     "ename": "TclError",
     "evalue": "can't invoke \"destroy\" command: application has been destroyed",
     "output_type": "error",
     "traceback": [
      "\u001b[1;31m---------------------------------------------------------------------------\u001b[0m",
      "\u001b[1;31mTclError\u001b[0m                                  Traceback (most recent call last)",
      "Input \u001b[1;32mIn [1]\u001b[0m, in \u001b[0;36m<module>\u001b[1;34m\u001b[0m\n\u001b[0;32m     26\u001b[0m     label\u001b[38;5;241m.\u001b[39mplace(x\u001b[38;5;241m=\u001b[39m\u001b[38;5;241m10\u001b[39m, y\u001b[38;5;241m=\u001b[39m\u001b[38;5;241m10\u001b[39m)\n\u001b[0;32m     27\u001b[0m     root\u001b[38;5;241m.\u001b[39mupdate()\n\u001b[1;32m---> 28\u001b[0m     \u001b[43mlabel\u001b[49m\u001b[38;5;241;43m.\u001b[39;49m\u001b[43mdestroy\u001b[49m\u001b[43m(\u001b[49m\u001b[43m)\u001b[49m\n\u001b[0;32m     30\u001b[0m root\u001b[38;5;241m.\u001b[39mmainloop()\n",
      "File \u001b[1;32m~\\miniconda3\\envs\\MouseStudy\\lib\\tkinter\\__init__.py:2580\u001b[0m, in \u001b[0;36mBaseWidget.destroy\u001b[1;34m(self)\u001b[0m\n\u001b[0;32m   2578\u001b[0m \u001b[38;5;124;03m\"\"\"Destroy this and all descendants widgets.\"\"\"\u001b[39;00m\n\u001b[0;32m   2579\u001b[0m \u001b[38;5;28;01mfor\u001b[39;00m c \u001b[38;5;129;01min\u001b[39;00m \u001b[38;5;28mlist\u001b[39m(\u001b[38;5;28mself\u001b[39m\u001b[38;5;241m.\u001b[39mchildren\u001b[38;5;241m.\u001b[39mvalues()): c\u001b[38;5;241m.\u001b[39mdestroy()\n\u001b[1;32m-> 2580\u001b[0m \u001b[38;5;28;43mself\u001b[39;49m\u001b[38;5;241;43m.\u001b[39;49m\u001b[43mtk\u001b[49m\u001b[38;5;241;43m.\u001b[39;49m\u001b[43mcall\u001b[49m\u001b[43m(\u001b[49m\u001b[38;5;124;43m'\u001b[39;49m\u001b[38;5;124;43mdestroy\u001b[39;49m\u001b[38;5;124;43m'\u001b[39;49m\u001b[43m,\u001b[49m\u001b[43m \u001b[49m\u001b[38;5;28;43mself\u001b[39;49m\u001b[38;5;241;43m.\u001b[39;49m\u001b[43m_w\u001b[49m\u001b[43m)\u001b[49m\n\u001b[0;32m   2581\u001b[0m \u001b[38;5;28;01mif\u001b[39;00m \u001b[38;5;28mself\u001b[39m\u001b[38;5;241m.\u001b[39m_name \u001b[38;5;129;01min\u001b[39;00m \u001b[38;5;28mself\u001b[39m\u001b[38;5;241m.\u001b[39mmaster\u001b[38;5;241m.\u001b[39mchildren:\n\u001b[0;32m   2582\u001b[0m     \u001b[38;5;28;01mdel\u001b[39;00m \u001b[38;5;28mself\u001b[39m\u001b[38;5;241m.\u001b[39mmaster\u001b[38;5;241m.\u001b[39mchildren[\u001b[38;5;28mself\u001b[39m\u001b[38;5;241m.\u001b[39m_name]\n",
      "\u001b[1;31mTclError\u001b[0m: can't invoke \"destroy\" command: application has been destroyed"
     ]
    }
   ],
   "source": [
    "import pyautogui\n",
    "from tkinter import *\n",
    "from time import sleep\n",
    "import tkinter as tk\n",
    "\n",
    "a = 0\n",
    "x = \"\"\n",
    "\n",
    "root = Tk()\n",
    "root.wm_attributes(\"-topmost\", 1)\n",
    "root.title(\"Mouse\") # title bar\n",
    "root.configure(background=\"white\")\n",
    "root.geometry(\"320x90\")\n",
    "label = Label(root, text=x, font=(\"Arial Bold\", 10))\n",
    "label.configure(background=\"white\")\n",
    "label.place(x=10, y=10)\n",
    "str_var = tk.StringVar(value=\"Default\")\n",
    "\n",
    "\n",
    "while a == 0:\n",
    "    x = pyautogui.position()\n",
    "    x = str(x)\n",
    "    x = x.replace(\"Point\",\" \").replace(\"(\",\"\").replace(\")\",\" \").replace(\",\",\"\")\n",
    "    label = Label(root, text=x, font=(\"Arial Bold\", 20))\n",
    "    label.configure(background=\"white\")\n",
    "    label.place(x=10, y=10)\n",
    "    root.update()\n",
    "    label.destroy()\n",
    "\n",
    "root.mainloop()"
   ]
  }
 ],
 "metadata": {
  "interpreter": {
   "hash": "c57a42a958fb81359838ea464eccbd27d74b7b4356186b1d26b69e2aa4cef139"
  },
  "kernelspec": {
   "display_name": "Python 3.9.7 ('MouseStudy')",
   "language": "python",
   "name": "python3"
  },
  "language_info": {
   "codemirror_mode": {
    "name": "ipython",
    "version": 3
   },
   "file_extension": ".py",
   "mimetype": "text/x-python",
   "name": "python",
   "nbconvert_exporter": "python",
   "pygments_lexer": "ipython3",
   "version": "3.9.7"
  },
  "orig_nbformat": 4
 },
 "nbformat": 4,
 "nbformat_minor": 2
}
