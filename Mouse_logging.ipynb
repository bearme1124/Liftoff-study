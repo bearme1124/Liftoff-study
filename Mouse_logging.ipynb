{
 "cells": [
  {
   "cell_type": "code",
   "execution_count": 1,
   "metadata": {},
   "outputs": [
    {
     "ename": "TclError",
     "evalue": "can't invoke \"destroy\" command: application has been destroyed",
     "output_type": "error",
     "traceback": [
      "\u001b[1;31m---------------------------------------------------------------------------\u001b[0m",
      "\u001b[1;31mTclError\u001b[0m                                  Traceback (most recent call last)",
      "\u001b[1;32mc:\\Users\\GOMDURI\\MouseStudy\\Mouse_logging.ipynb Cell 1'\u001b[0m in \u001b[0;36m<module>\u001b[1;34m\u001b[0m\n\u001b[0;32m     <a href='vscode-notebook-cell:/c%3A/Users/GOMDURI/MouseStudy/Mouse_logging.ipynb#ch0000000?line=24'>25</a>\u001b[0m     label\u001b[39m.\u001b[39mplace(x\u001b[39m=\u001b[39m\u001b[39m10\u001b[39m, y\u001b[39m=\u001b[39m\u001b[39m10\u001b[39m)\n\u001b[0;32m     <a href='vscode-notebook-cell:/c%3A/Users/GOMDURI/MouseStudy/Mouse_logging.ipynb#ch0000000?line=25'>26</a>\u001b[0m     root\u001b[39m.\u001b[39mupdate()\n\u001b[1;32m---> <a href='vscode-notebook-cell:/c%3A/Users/GOMDURI/MouseStudy/Mouse_logging.ipynb#ch0000000?line=26'>27</a>\u001b[0m     label\u001b[39m.\u001b[39;49mdestroy()\n\u001b[0;32m     <a href='vscode-notebook-cell:/c%3A/Users/GOMDURI/MouseStudy/Mouse_logging.ipynb#ch0000000?line=28'>29</a>\u001b[0m root\u001b[39m.\u001b[39mmainloop()\n",
      "File \u001b[1;32m~\\miniconda3\\envs\\MouseStudy\\lib\\tkinter\\__init__.py:2580\u001b[0m, in \u001b[0;36mBaseWidget.destroy\u001b[1;34m(self)\u001b[0m\n\u001b[0;32m   <a href='file:///~/miniconda3/envs/MouseStudy/lib/tkinter/__init__.py?line=2577'>2578</a>\u001b[0m \u001b[39m\"\"\"Destroy this and all descendants widgets.\"\"\"\u001b[39;00m\n\u001b[0;32m   <a href='file:///~/miniconda3/envs/MouseStudy/lib/tkinter/__init__.py?line=2578'>2579</a>\u001b[0m \u001b[39mfor\u001b[39;00m c \u001b[39min\u001b[39;00m \u001b[39mlist\u001b[39m(\u001b[39mself\u001b[39m\u001b[39m.\u001b[39mchildren\u001b[39m.\u001b[39mvalues()): c\u001b[39m.\u001b[39mdestroy()\n\u001b[1;32m-> <a href='file:///~/miniconda3/envs/MouseStudy/lib/tkinter/__init__.py?line=2579'>2580</a>\u001b[0m \u001b[39mself\u001b[39;49m\u001b[39m.\u001b[39;49mtk\u001b[39m.\u001b[39;49mcall(\u001b[39m'\u001b[39;49m\u001b[39mdestroy\u001b[39;49m\u001b[39m'\u001b[39;49m, \u001b[39mself\u001b[39;49m\u001b[39m.\u001b[39;49m_w)\n\u001b[0;32m   <a href='file:///~/miniconda3/envs/MouseStudy/lib/tkinter/__init__.py?line=2580'>2581</a>\u001b[0m \u001b[39mif\u001b[39;00m \u001b[39mself\u001b[39m\u001b[39m.\u001b[39m_name \u001b[39min\u001b[39;00m \u001b[39mself\u001b[39m\u001b[39m.\u001b[39mmaster\u001b[39m.\u001b[39mchildren:\n\u001b[0;32m   <a href='file:///~/miniconda3/envs/MouseStudy/lib/tkinter/__init__.py?line=2581'>2582</a>\u001b[0m     \u001b[39mdel\u001b[39;00m \u001b[39mself\u001b[39m\u001b[39m.\u001b[39mmaster\u001b[39m.\u001b[39mchildren[\u001b[39mself\u001b[39m\u001b[39m.\u001b[39m_name]\n",
      "\u001b[1;31mTclError\u001b[0m: can't invoke \"destroy\" command: application has been destroyed"
     ]
    }
   ],
   "source": [
    "import pyautogui\n",
    "from tkinter import *\n",
    "from time import sleep\n",
    "import tkinter as tk\n",
    "\n",
    "x = \"\"\n",
    "\n",
    "root = Tk()\n",
    "root.wm_attributes(\"-topmost\", 1)\n",
    "root.title(\"Mouse\") # title bar\n",
    "root.configure(background=\"white\")\n",
    "root.geometry(\"320x90\")\n",
    "label = Label(root, text=x, font=(\"Arial Bold\", 10))\n",
    "label.configure(background=\"white\")\n",
    "label.place(x=10, y=10)\n",
    "str_var = tk.StringVar(value=\"Default\")\n",
    "\n",
    "\n",
    "while True:\n",
    "    x = pyautogui.position()\n",
    "    x = str(x)\n",
    "    x = x.replace(\"Point\",\" \").replace(\"(\",\"\").replace(\")\",\" \").replace(\",\",\"\")\n",
    "    label = Label(root, text=x, font=(\"Arial Bold\", 20))\n",
    "    label.configure(background=\"white\")\n",
    "    label.place(x=10, y=10)\n",
    "    root.update()\n",
    "    label.destroy()\n",
    "\n",
    "root.mainloop()"
   ]
  },
  {
   "cell_type": "code",
   "execution_count": null,
   "metadata": {},
   "outputs": [],
   "source": []
  }
 ],
 "metadata": {
  "interpreter": {
   "hash": "c57a42a958fb81359838ea464eccbd27d74b7b4356186b1d26b69e2aa4cef139"
  },
  "kernelspec": {
   "display_name": "Python 3.9.7 ('MouseStudy')",
   "language": "python",
   "name": "python3"
  },
  "language_info": {
   "codemirror_mode": {
    "name": "ipython",
    "version": 3
   },
   "file_extension": ".py",
   "mimetype": "text/x-python",
   "name": "python",
   "nbconvert_exporter": "python",
   "pygments_lexer": "ipython3",
   "version": "3.9.7"
  },
  "orig_nbformat": 4
 },
 "nbformat": 4,
 "nbformat_minor": 2
}
